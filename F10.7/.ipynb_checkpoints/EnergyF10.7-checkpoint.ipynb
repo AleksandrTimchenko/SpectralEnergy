{
 "cells": [
  {
   "cell_type": "code",
   "execution_count": null,
   "metadata": {},
   "outputs": [],
   "source": [
    "import numpy\n",
    "import pandas\n",
    "import matplotlib\n",
    "from scipy.interpolate import interp1d\n",
    "%pylab inline"
   ]
  },
  {
   "cell_type": "code",
   "execution_count": null,
   "metadata": {
    "collapsed": true
   },
   "outputs": [],
   "source": [
    "#функция вейвлет преобразования Морле\n",
    "def morley(x):\n",
    "    m = real(exp(-x**2/2)*exp(1j*2*pi*x))\n",
    "    return m"
   ]
  },
  {
   "cell_type": "code",
   "execution_count": null,
   "metadata": {
    "collapsed": true
   },
   "outputs": [],
   "source": [
    "def enveloppe(s):\n",
    "    u_x = [] # do not add 0\n",
    "    u_y = []\n",
    "    q_u = np.zeros(s.shape)\n",
    "    for k in range(1,len(s)-1):\n",
    "        if (np.sign(s[k]-s[k-1])==1) and (np.sign(s[k]-s[k+1])==1):\n",
    "            u_x.append(float(k))\n",
    "            u_y.append(s[k])\n",
    "#    print(u_x),len(u_x)\n",
    "#    print day\n",
    "    u_p = interp1d(u_x,u_y,fill_value=\"extrapolate\") #,kind = 'cubic')#,fill_value=\"extrapolate\")\n",
    "#    u_p = interp1d(u_x,u_y, kind = 'linear',\n",
    "#              bounds_error = False, \n",
    "#              fill_value=\"extrapolate\") # use fill_value=\"extrapolate\"\n",
    "    for k in range(0,len(s)):\n",
    "        q_u[k] = u_p(float(k+0.1))\n",
    "    return q_u"
   ]
  },
  {
   "cell_type": "code",
   "execution_count": null,
   "metadata": {
    "collapsed": true
   },
   "outputs": [],
   "source": [
    "data = loadtxt('F10.7_1966.dat') # файл содержащий значения foF2, за день \n",
    "N = len(data) # количество дней \n",
    "Ni = int(N/2)\n",
    "t = arange(0,N) # количество дней\n",
    "a = arange(1, Ni) # параметр \n",
    "b = arange(0, N) # параметр "
   ]
  },
  {
   "cell_type": "code",
   "execution_count": null,
   "metadata": {},
   "outputs": [],
   "source": [
    "foF2av = mean(data[:,1]) # среднее значение foF2 за данный промежуток \n",
    "foF2 = data[:,1]\n",
    "#foF2 = data[:,1]\n",
    "#for i in range(0,N-1):\n",
    "   # foF2[i+1] = data[i+1,1] -data[i,1]\n",
    "plot(foF2)"
   ]
  },
  {
   "cell_type": "code",
   "execution_count": null,
   "metadata": {
    "collapsed": true
   },
   "outputs": [],
   "source": [
    "# Вейвлет преобразование Морле\n",
    "Np = 30\n",
    "WA = np.zeros(Np*N).reshape(Np,N)\n",
    "for i in range(1,Np):\n",
    "    for j in range(0,N):\n",
    "        sum = 0\n",
    "        for e in range(0,N):\n",
    "            sum = sum + (foF2[e] - foF2av)*morley((t[e]-b[j])/a[i])\n",
    "        WA[i,j] = sum/sqrt(a[i])"
   ]
  },
  {
   "cell_type": "code",
   "execution_count": null,
   "metadata": {},
   "outputs": [],
   "source": [
    "contourf((WA)**2, 35)\n",
    "colorbar()"
   ]
  },
  {
   "cell_type": "code",
   "execution_count": null,
   "metadata": {
    "collapsed": true
   },
   "outputs": [],
   "source": [
    "W = (WA)**2\n",
    "Ew = np.zeros(N*2).reshape(N,2)\n",
    "for j in range(1,N):\n",
    "    sum = 0\n",
    "    for i in range(26, 30):\n",
    "        sum = sum + W[i,j]\n",
    "        Ew[j,0] = j\n",
    "        Ew[j,1] = sum\n",
    "savetxt('EnergyF10.7_1966(26-30).dat', Ew)"
   ]
  },
  {
   "cell_type": "code",
   "execution_count": null,
   "metadata": {},
   "outputs": [],
   "source": [
    "plot(Ew[:,0], Ew[:,1])"
   ]
  },
  {
   "cell_type": "code",
   "execution_count": null,
   "metadata": {
    "collapsed": true
   },
   "outputs": [],
   "source": [
    "K=len(Ew[:,0])"
   ]
  },
  {
   "cell_type": "code",
   "execution_count": null,
   "metadata": {},
   "outputs": [],
   "source": [
    "G=zeros(K)\n",
    "Gh=zeros(K)\n",
    "G=Ew[:,1]\n",
    "day=Ew[:,0]\n",
    "plot(day,G)\n",
    "#print day\n"
   ]
  },
  {
   "cell_type": "code",
   "execution_count": null,
   "metadata": {},
   "outputs": [],
   "source": [
    "Gh= enveloppe(G)\n",
    "plot(day,G)\n",
    "plot(day,Gh)"
   ]
  },
  {
   "cell_type": "code",
   "execution_count": null,
   "metadata": {
    "collapsed": true
   },
   "outputs": [],
   "source": [
    "env = np.zeros(2*K).reshape(K,2)\n",
    "\n",
    "for i in range(0,N):\n",
    "    env[i,0] = day[i]\n",
    "    env[i,1] = Gh[i]\n",
    "savetxt('EnergyEnvF10.7_1966(26-30).dat', env)"
   ]
  }
 ],
 "metadata": {
  "kernelspec": {
   "display_name": "Python 3",
   "language": "python",
   "name": "python3"
  },
  "language_info": {
   "codemirror_mode": {
    "name": "ipython",
    "version": 3
   },
   "file_extension": ".py",
   "mimetype": "text/x-python",
   "name": "python",
   "nbconvert_exporter": "python",
   "pygments_lexer": "ipython3",
   "version": "3.6.2"
  }
 },
 "nbformat": 4,
 "nbformat_minor": 2
}
